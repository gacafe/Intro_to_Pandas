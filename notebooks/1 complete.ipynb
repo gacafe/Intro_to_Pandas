{
 "cells": [
  {
   "cell_type": "code",
   "execution_count": null,
   "metadata": {
    "collapsed": true
   },
   "outputs": [],
   "source": [
    "import pandas as pd\n",
    "\n",
    "import plotly.offline as offline\n",
    "import plotly.graph_objs as go\n",
    "import cufflinks as cf\n",
    "cf.go_offline()\n",
    "\n",
    "offline.init_notebook_mode()"
   ]
  },
  {
   "cell_type": "markdown",
   "metadata": {},
   "source": [
    "# Read movie data"
   ]
  },
  {
   "cell_type": "code",
   "execution_count": null,
   "metadata": {
    "collapsed": true
   },
   "outputs": [],
   "source": [
    "movie_filename = \"../data/movies.csv\""
   ]
  },
  {
   "cell_type": "code",
   "execution_count": null,
   "metadata": {
    "collapsed": true
   },
   "outputs": [],
   "source": [
    "movies_df = pd.read_csv(movie_filename)\n",
    "print(movies_df.shape)\n",
    "count_movie_ids = movies_df.shape[0]\n",
    "movies_df.head(5)"
   ]
  },
  {
   "cell_type": "code",
   "execution_count": null,
   "metadata": {
    "collapsed": true
   },
   "outputs": [],
   "source": [
    "movies_df = movies_df.set_index('movieId')\n",
    "movies_df.sample(5)"
   ]
  },
  {
   "cell_type": "markdown",
   "metadata": {},
   "source": [
    "sample lets us grab a few random rows in our data\n",
    "- https://pandas.pydata.org/pandas-docs/stable/generated/pandas.DataFrame.sample.html"
   ]
  },
  {
   "cell_type": "markdown",
   "metadata": {},
   "source": [
    "## Add some useful columns"
   ]
  },
  {
   "cell_type": "code",
   "execution_count": null,
   "metadata": {
    "collapsed": true
   },
   "outputs": [],
   "source": [
    "## Turn the genres into a list\n",
    "movies_df['genres_list'] = movies_df['genres'].apply(lambda x: x.split('|'))\n",
    "movies_df.sample(5)"
   ]
  },
  {
   "cell_type": "markdown",
   "metadata": {},
   "source": [
    "we just used the apply function to generate information from a column\n",
    "- https://pandas.pydata.org/pandas-docs/stable/generated/pandas.DataFrame.apply.html"
   ]
  },
  {
   "cell_type": "code",
   "execution_count": null,
   "metadata": {
    "collapsed": true
   },
   "outputs": [],
   "source": [
    "## Make a column with the 'Year' extracted from the title\n",
    "## use a function bc why not\n",
    "\n",
    "def extract_year_from_title(x):\n",
    "    '''\n",
    "    Title has format --Title--(YYYY)\n",
    "    Title could contain () so must only take the last one\n",
    "    Should expect to turn YYYY into int\n",
    "    '''\n",
    "    *title, year = x.split('(')\n",
    "    year = year.replace(')','')\n",
    "    try:\n",
    "        year = int(year)\n",
    "    except:\n",
    "        year = 'unknown'\n",
    "    return year\n",
    "\n",
    "movies_df['year'] = movies_df['title'].apply(extract_year_from_title)"
   ]
  },
  {
   "cell_type": "code",
   "execution_count": null,
   "metadata": {
    "collapsed": true
   },
   "outputs": [],
   "source": [
    "## find some movies with no year listed ... (according to our function)\n",
    "movies_df.loc[movies_df['year']=='unknown']"
   ]
  },
  {
   "cell_type": "markdown",
   "metadata": {},
   "source": [
    "we just used loc to find particular data\n",
    "- https://pandas.pydata.org/pandas-docs/stable/generated/pandas.DataFrame.loc.html"
   ]
  },
  {
   "cell_type": "code",
   "execution_count": null,
   "metadata": {
    "collapsed": true
   },
   "outputs": [],
   "source": [
    "## drop any movies for which I do not have a year\n",
    "movies_df = movies_df.loc[movies_df['year']!='unknown']\n",
    "print(\"Left with {} movies, dropped {} movies without a year\".format(movies_df.shape[0],\n",
    "                                                      count_movie_ids - movies_df.shape[0]))\n",
    "## update count_movie_ids\n",
    "count_movie_ids = movies_df.shape[0]"
   ]
  },
  {
   "cell_type": "code",
   "execution_count": null,
   "metadata": {
    "collapsed": true
   },
   "outputs": [],
   "source": [
    "## gather the movies by year and see how many there are each year\n",
    "no_movies_by_year = movies_df.groupby('year').count()\n",
    "\n",
    "print(no_movies_by_year.head(5))\n",
    "## plot it\n",
    "fig = no_movies_by_year[['title']].iplot(kind='scatter',\n",
    "                                         title = 'Movies by Year',\n",
    "                                         xTitle = 'Year',\n",
    "                                         yTitle = 'Count',\n",
    "                                         asFigure=True, )\n",
    "\n",
    "offline.plot(fig, filename='../graphs/movies_by_year.html', )"
   ]
  },
  {
   "cell_type": "markdown",
   "metadata": {},
   "source": [
    "**Whoa!** \n",
    "\n",
    "We just used groupby\n",
    "- https://pandas.pydata.org/pandas-docs/stable/generated/pandas.DataFrame.groupby.html\n",
    "\n",
    "Then we aggregated stuff using count()\n",
    "- https://pandas.pydata.org/pandas-docs/stable/generated/pandas.DataFrame.count.html\n",
    "\n",
    "But more generally we could have used an agg function\n",
    "- https://pandas.pydata.org/pandas-docs/stable/generated/pandas.core.groupby.DataFrameGroupBy.agg.html\n",
    "\n",
    "Then, we plotted using Plotly and cufflinks \n",
    "- https://plot.ly/ipython-notebooks/cufflinks/\n",
    "- https://github.com/santosjorge/cufflinks"
   ]
  },
  {
   "cell_type": "code",
   "execution_count": null,
   "metadata": {
    "collapsed": true
   },
   "outputs": [],
   "source": [
    "## lets explore the yearly trends by genre"
   ]
  },
  {
   "cell_type": "code",
   "execution_count": null,
   "metadata": {
    "collapsed": true
   },
   "outputs": [],
   "source": [
    "## turn the genres_list into a row with the index as the column\n",
    "genres_df = movies_df['genres_list'].apply(pd.Series)\n",
    "genres_df.head(3)"
   ]
  },
  {
   "cell_type": "code",
   "execution_count": null,
   "metadata": {
    "collapsed": true
   },
   "outputs": [],
   "source": [
    "## stack those values to make more sense of it\n",
    "genres_df = genres_df.stack(level=-1)\n",
    "print(type(genres_df))\n",
    "genres_df.head(10)"
   ]
  },
  {
   "cell_type": "markdown",
   "metadata": {},
   "source": [
    "we've used stack to stack the columns and the values\n",
    "- https://pandas.pydata.org/pandas-docs/stable/generated/pandas.DataFrame.stack.html"
   ]
  },
  {
   "cell_type": "code",
   "execution_count": null,
   "metadata": {
    "collapsed": true
   },
   "outputs": [],
   "source": [
    "## get it back as a dataframe so that you can have fun with it\n",
    "genres_df = genres_df.reset_index()\n",
    "genres_df.head(3)"
   ]
  },
  {
   "cell_type": "code",
   "execution_count": null,
   "metadata": {
    "collapsed": true
   },
   "outputs": [],
   "source": [
    "## pivot those values to make them column names\n",
    "genres_df['is_genre'] = True\n",
    "genres_df = genres_df.pivot(index='movieId',columns=0,values='is_genre')\n",
    "print(\"Generated {} movies, should have {}, discrepancy --> {}\".format(genres_df.shape[0], \n",
    "                                                                       count_movie_ids, \n",
    "                                                                       count_movie_ids - genres_df.shape[0]))\n",
    "genres_df.head(3)"
   ]
  },
  {
   "cell_type": "markdown",
   "metadata": {},
   "source": [
    "pivot is just like what the name suggests, it pivots row values and makes them column names\n",
    "- https://pandas.pydata.org/pandas-docs/stable/generated/pandas.DataFrame.pivot.html"
   ]
  },
  {
   "cell_type": "code",
   "execution_count": null,
   "metadata": {
    "collapsed": true
   },
   "outputs": [],
   "source": [
    "## fill the empty values \n",
    "genres_df = genres_df.fillna(False)\n",
    "genres_df.head(3)\n",
    "# genres.loc[genres['(no genres listed)']==True]"
   ]
  },
  {
   "cell_type": "code",
   "execution_count": null,
   "metadata": {
    "collapsed": true
   },
   "outputs": [],
   "source": [
    "## make a bar chart for each genre mentioned\n",
    "genres_df.sum().iplot(kind='bar',\n",
    "                      yTitle = 'Non-unique Count')"
   ]
  },
  {
   "cell_type": "code",
   "execution_count": null,
   "metadata": {
    "collapsed": true
   },
   "outputs": [],
   "source": [
    "## merge the data \n",
    "movies_with_genre_df = movies_df[['title','year']].merge(genres_df, \n",
    "                                  left_index=True, \n",
    "                                  right_index=True)\n",
    "\n",
    "print(\"{} movie ids, originally had {}, lost {}\".format(movies_with_genre_df.shape[0],\n",
    "                                                       count_movie_ids,\n",
    "                                                       count_movie_ids - movies_with_genre_df.shape[0]))"
   ]
  },
  {
   "cell_type": "markdown",
   "metadata": {},
   "source": [
    "merge lets us bring together two dataframes, it has heaps of different parameters you can select\n",
    "- https://pandas.pydata.org/pandas-docs/stable/generated/pandas.DataFrame.merge.html\n",
    "In general to bring together dataframes you can use concat, merge or join, \n",
    "- https://pandas.pydata.org/pandas-docs/stable/merging.html"
   ]
  },
  {
   "cell_type": "code",
   "execution_count": null,
   "metadata": {
    "collapsed": true
   },
   "outputs": [],
   "source": [
    "## plot the differen genres by year\n",
    "movies_with_genre_df.groupby('year').sum().iplot()"
   ]
  },
  {
   "cell_type": "code",
   "execution_count": null,
   "metadata": {
    "collapsed": true
   },
   "outputs": [],
   "source": []
  }
 ],
 "metadata": {
  "kernelspec": {
   "display_name": "Python 3",
   "language": "python",
   "name": "python3"
  },
  "language_info": {
   "codemirror_mode": {
    "name": "ipython",
    "version": 3
   },
   "file_extension": ".py",
   "mimetype": "text/x-python",
   "name": "python",
   "nbconvert_exporter": "python",
   "pygments_lexer": "ipython3",
   "version": "3.6.2"
  }
 },
 "nbformat": 4,
 "nbformat_minor": 2
}
