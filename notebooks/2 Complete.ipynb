{
 "cells": [
  {
   "cell_type": "code",
   "execution_count": null,
   "metadata": {
    "collapsed": true
   },
   "outputs": [],
   "source": [
    "import pandas as pd\n",
    "\n",
    "import plotly.offline as offline\n",
    "import plotly.graph_objs as go\n",
    "import cufflinks as cf\n",
    "cf.go_offline()\n",
    "\n",
    "offline.init_notebook_mode()"
   ]
  },
  {
   "cell_type": "code",
   "execution_count": null,
   "metadata": {
    "collapsed": true
   },
   "outputs": [],
   "source": [
    "## Read ratings data data\n",
    "ratings_filename = \"../data/ratings.csv\""
   ]
  },
  {
   "cell_type": "code",
   "execution_count": null,
   "metadata": {
    "collapsed": true
   },
   "outputs": [],
   "source": [
    "ratings_df = pd.read_csv(ratings_filename)\n",
    "print(ratings_df.shape)\n",
    "count_ratings = ratings_df.shape[0]\n",
    "ratings_df.head(10)"
   ]
  },
  {
   "cell_type": "code",
   "execution_count": null,
   "metadata": {
    "collapsed": true
   },
   "outputs": [],
   "source": [
    "## get a few because why not\n",
    "ratings_df = ratings_df.sample(10000)"
   ]
  },
  {
   "cell_type": "code",
   "execution_count": null,
   "metadata": {
    "collapsed": true
   },
   "outputs": [],
   "source": [
    "## group by userId and look at the top rated movie for each user\n",
    "ratings_df = ratings_df.sort_values('rating', ascending = False)\n",
    "ratings_userid_grouped = ratings_df.groupby(['userId'])\n",
    "\n",
    "ratings_userid_grouped.head(1) #.head(5)"
   ]
  },
  {
   "cell_type": "markdown",
   "metadata": {},
   "source": [
    "we sort first using the sort_values\n",
    "- https://pandas.pydata.org/pandas-docs/stable/generated/pandas.DataFrame.sort_values.html"
   ]
  },
  {
   "cell_type": "code",
   "execution_count": null,
   "metadata": {
    "collapsed": true
   },
   "outputs": [],
   "source": [
    "## get some basic stats on each movie's ratings\n",
    "ratings_movideid_grouped = ratings_df.groupby('movieId')\n",
    "## focus only on 'rating'\n",
    "# ratings_movideid_grouped[['rating']].describe().head(10)"
   ]
  },
  {
   "cell_type": "markdown",
   "metadata": {},
   "source": [
    "describe will give you basic stats, but you can also give it a bit of direction\n",
    "- https://pandas.pydata.org/pandas-docs/stable/generated/pandas.DataFrame.describe.html"
   ]
  },
  {
   "cell_type": "code",
   "execution_count": null,
   "metadata": {
    "collapsed": true
   },
   "outputs": [],
   "source": [
    "## get the mean rating for different movies by user id\n",
    "## there is two ways --\n",
    "\n",
    "## 1\n",
    "ratings_df.groupby([ratings_df['movieId'],ratings_df['userId']]).mean()\n",
    "\n",
    "## 2\n",
    "ratings_df['rating'].groupby([ratings_df['movieId'],ratings_df['userId']]).mean().head(5)"
   ]
  },
  {
   "cell_type": "code",
   "execution_count": null,
   "metadata": {
    "collapsed": true
   },
   "outputs": [],
   "source": [
    "ratings_movideid_grouped.head(1)"
   ]
  },
  {
   "cell_type": "code",
   "execution_count": null,
   "metadata": {
    "collapsed": true
   },
   "outputs": [],
   "source": [
    "## find if a user's rating is higher or lower than the mean rating given to the movie\n",
    "## define the tansformation\n",
    "normalise_rating = lambda x: x/x.mean()\n",
    "## transform the rating\n",
    "normal_ratings_df = ratings_movideid_grouped[['rating']].transform(normalise_rating)"
   ]
  },
  {
   "cell_type": "code",
   "execution_count": null,
   "metadata": {
    "collapsed": true
   },
   "outputs": [],
   "source": [
    "## merge it into the orgiginal data\n",
    "ratings_df.merge(normal_ratings_df, left_index = True, right_index = True).head(5)"
   ]
  },
  {
   "cell_type": "markdown",
   "metadata": {},
   "source": [
    "we transformed some stuff based on other stuff!\n",
    "- https://pandas.pydata.org/pandas-docs/stable/generated/pandas.DataFrame.transform.html"
   ]
  }
 ],
 "metadata": {
  "kernelspec": {
   "display_name": "Python 3",
   "language": "python",
   "name": "python3"
  },
  "language_info": {
   "codemirror_mode": {
    "name": "ipython",
    "version": 3
   },
   "file_extension": ".py",
   "mimetype": "text/x-python",
   "name": "python",
   "nbconvert_exporter": "python",
   "pygments_lexer": "ipython3",
   "version": "3.6.2"
  }
 },
 "nbformat": 4,
 "nbformat_minor": 2
}
